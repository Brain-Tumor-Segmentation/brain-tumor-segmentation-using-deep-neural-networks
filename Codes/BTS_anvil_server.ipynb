{
  "nbformat": 4,
  "nbformat_minor": 0,
  "metadata": {
    "colab": {
      "name": "BTS anvil server.ipynb",
      "provenance": [],
      "collapsed_sections": []
    },
    "kernelspec": {
      "name": "python3",
      "display_name": "Python 3"
    },
    "language_info": {
      "name": "python"
    },
    "accelerator": "GPU"
  },
  "cells": [
    {
      "cell_type": "markdown",
      "metadata": {
        "id": "R6qKhQPIUz8e"
      },
      "source": [
        "### Downloading necessary Libraries"
      ]
    },
    {
      "cell_type": "code",
      "metadata": {
        "colab": {
          "base_uri": "https://localhost:8080/"
        },
        "id": "26OD3QbBwLNE",
        "outputId": "d8cba73c-dcf7-467b-c353-a59dbd90c878"
      },
      "source": [
        "!pip install anvil-uplink       # for creating anvil server\n",
        "!pip install SimpleITK          # for reading nifti file and convert to numpy array"
      ],
      "execution_count": null,
      "outputs": [
        {
          "output_type": "stream",
          "text": [
            "Requirement already satisfied: anvil-uplink in /usr/local/lib/python3.7/dist-packages (0.3.36)\n",
            "Requirement already satisfied: future in /usr/local/lib/python3.7/dist-packages (from anvil-uplink) (0.16.0)\n",
            "Requirement already satisfied: six in /usr/local/lib/python3.7/dist-packages (from anvil-uplink) (1.15.0)\n",
            "Requirement already satisfied: ws4py in /usr/local/lib/python3.7/dist-packages (from anvil-uplink) (0.5.1)\n",
            "Requirement already satisfied: argparse in /usr/local/lib/python3.7/dist-packages (from anvil-uplink) (1.4.0)\n",
            "Requirement already satisfied: SimpleITK in /usr/local/lib/python3.7/dist-packages (2.0.2)\n"
          ],
          "name": "stdout"
        }
      ]
    },
    {
      "cell_type": "markdown",
      "metadata": {
        "id": "wigNH_W1U56k"
      },
      "source": [
        "### Creating required folders"
      ]
    },
    {
      "cell_type": "code",
      "metadata": {
        "id": "AiGfZmEcCWgK",
        "colab": {
          "base_uri": "https://localhost:8080/"
        },
        "outputId": "87965bca-f671-43e9-a937-208714b2077e"
      },
      "source": [
        "!mkdir models                 # for saving downloaded models\n",
        "!mkdir uploads                # for saving files recieved from frontend\n",
        "!mkdir images                 # for saving generated images"
      ],
      "execution_count": null,
      "outputs": [
        {
          "output_type": "stream",
          "text": [
            "mkdir: cannot create directory ‘models’: File exists\n",
            "mkdir: cannot create directory ‘uploads’: File exists\n",
            "mkdir: cannot create directory ‘images’: File exists\n"
          ],
          "name": "stdout"
        }
      ]
    },
    {
      "cell_type": "markdown",
      "metadata": {
        "id": "oafPe00KVThN"
      },
      "source": [
        "### Downloading deep learning models for prediction"
      ]
    },
    {
      "cell_type": "code",
      "metadata": {
        "id": "PhfKg_UMsz5A",
        "colab": {
          "base_uri": "https://localhost:8080/"
        },
        "outputId": "23dd2ae3-e4ec-4e89-ad4a-982d8e3e2903"
      },
      "source": [
        "!wget --load-cookies /tmp/cookies.txt \"https://docs.google.com/uc?export=download&confirm=$(wget --quiet --save-cookies /tmp/cookies.txt --keep-session-cookies --no-check-certificate 'https://docs.google.com/uc?export=download&id=1COe_5DJuePCJKHayqHCdZnMA-rE8FyYN' -O- | sed -rn 's/.*confirm=([0-9A-Za-z_]+).*/\\1\\n/p')&id=1COe_5DJuePCJKHayqHCdZnMA-rE8FyYN\" -O models/wnet-model.hdf5 && rm -rf /tmp/cookies.txt\n",
        "!wget --load-cookies /tmp/cookies.txt \"https://docs.google.com/uc?export=download&confirm=$(wget --quiet --save-cookies /tmp/cookies.txt --keep-session-cookies --no-check-certificate 'https://docs.google.com/uc?export=download&id=1vLRXyAFdcbXOD6XGFqtX4BN42cipm0U_' -O- | sed -rn 's/.*confirm=([0-9A-Za-z_]+).*/\\1\\n/p')&id=1vLRXyAFdcbXOD6XGFqtX4BN42cipm0U_\" -O models/vnet-model.hdf5 && rm -rf /tmp/cookies.txt\n",
        "!wget --load-cookies /tmp/cookies.txt \"https://docs.google.com/uc?export=download&confirm=$(wget --quiet --save-cookies /tmp/cookies.txt --keep-session-cookies --no-check-certificate 'https://docs.google.com/uc?export=download&id=1i1vy9uNPTtc2i_UePMIXuckjD56YNBpN' -O- | sed -rn 's/.*confirm=([0-9A-Za-z_]+).*/\\1\\n/p')&id=1i1vy9uNPTtc2i_UePMIXuckjD56YNBpN\" -O models/unet-model.hdf5 && rm -rf /tmp/cookies.txt\n",
        "!wget --load-cookies /tmp/cookies.txt \"https://docs.google.com/uc?export=download&confirm=$(wget --quiet --save-cookies /tmp/cookies.txt --keep-session-cookies --no-check-certificate 'https://docs.google.com/uc?export=download&id=1-giJ-Lh8NfdyxbJqPFIflC64iJ5nVhGN' -O- | sed -rn 's/.*confirm=([0-9A-Za-z_]+).*/\\1\\n/p')&id=1-giJ-Lh8NfdyxbJqPFIflC64iJ5nVhGN\" -O models/sobel-with-unet-model.hdf5 && rm -rf /tmp/cookies.txt"
      ],
      "execution_count": null,
      "outputs": [
        {
          "output_type": "stream",
          "text": [
            "--2021-06-12 18:52:01--  https://docs.google.com/uc?export=download&confirm=Qbwy&id=1COe_5DJuePCJKHayqHCdZnMA-rE8FyYN\n",
            "Resolving docs.google.com (docs.google.com)... 74.125.142.139, 74.125.142.113, 74.125.142.100, ...\n",
            "Connecting to docs.google.com (docs.google.com)|74.125.142.139|:443... connected.\n",
            "HTTP request sent, awaiting response... 302 Moved Temporarily\n",
            "Location: https://doc-10-58-docs.googleusercontent.com/docs/securesc/b4lvid091fghtnnoccgobj510jr9sg9f/b7pum7bq2moh7agshk3r7hkc001ubrdi/1623523875000/07303364606278538411/16812548586229513899Z/1COe_5DJuePCJKHayqHCdZnMA-rE8FyYN?e=download [following]\n",
            "--2021-06-12 18:52:01--  https://doc-10-58-docs.googleusercontent.com/docs/securesc/b4lvid091fghtnnoccgobj510jr9sg9f/b7pum7bq2moh7agshk3r7hkc001ubrdi/1623523875000/07303364606278538411/16812548586229513899Z/1COe_5DJuePCJKHayqHCdZnMA-rE8FyYN?e=download\n",
            "Resolving doc-10-58-docs.googleusercontent.com (doc-10-58-docs.googleusercontent.com)... 172.253.117.132, 2607:f8b0:400e:c0a::84\n",
            "Connecting to doc-10-58-docs.googleusercontent.com (doc-10-58-docs.googleusercontent.com)|172.253.117.132|:443... connected.\n",
            "HTTP request sent, awaiting response... 302 Found\n",
            "Location: https://docs.google.com/nonceSigner?nonce=ect8qh1vuskh4&continue=https://doc-10-58-docs.googleusercontent.com/docs/securesc/b4lvid091fghtnnoccgobj510jr9sg9f/b7pum7bq2moh7agshk3r7hkc001ubrdi/1623523875000/07303364606278538411/16812548586229513899Z/1COe_5DJuePCJKHayqHCdZnMA-rE8FyYN?e%3Ddownload&hash=sa9ani29dj9cr0bbh4u8b8b2vtg4phoj [following]\n",
            "--2021-06-12 18:52:01--  https://docs.google.com/nonceSigner?nonce=ect8qh1vuskh4&continue=https://doc-10-58-docs.googleusercontent.com/docs/securesc/b4lvid091fghtnnoccgobj510jr9sg9f/b7pum7bq2moh7agshk3r7hkc001ubrdi/1623523875000/07303364606278538411/16812548586229513899Z/1COe_5DJuePCJKHayqHCdZnMA-rE8FyYN?e%3Ddownload&hash=sa9ani29dj9cr0bbh4u8b8b2vtg4phoj\n",
            "Connecting to docs.google.com (docs.google.com)|74.125.142.139|:443... connected.\n",
            "HTTP request sent, awaiting response... 302 Found\n",
            "Location: https://doc-10-58-docs.googleusercontent.com/docs/securesc/b4lvid091fghtnnoccgobj510jr9sg9f/b7pum7bq2moh7agshk3r7hkc001ubrdi/1623523875000/07303364606278538411/16812548586229513899Z/1COe_5DJuePCJKHayqHCdZnMA-rE8FyYN?e=download&nonce=ect8qh1vuskh4&user=16812548586229513899Z&hash=rtv5ddhgeshmu6rkkamfhec4rigct46a [following]\n",
            "--2021-06-12 18:52:01--  https://doc-10-58-docs.googleusercontent.com/docs/securesc/b4lvid091fghtnnoccgobj510jr9sg9f/b7pum7bq2moh7agshk3r7hkc001ubrdi/1623523875000/07303364606278538411/16812548586229513899Z/1COe_5DJuePCJKHayqHCdZnMA-rE8FyYN?e=download&nonce=ect8qh1vuskh4&user=16812548586229513899Z&hash=rtv5ddhgeshmu6rkkamfhec4rigct46a\n",
            "Connecting to doc-10-58-docs.googleusercontent.com (doc-10-58-docs.googleusercontent.com)|172.253.117.132|:443... connected.\n",
            "HTTP request sent, awaiting response... 200 OK\n",
            "Length: unspecified [application/octet-stream]\n",
            "Saving to: ‘models/wnet-model.hdf5’\n",
            "\n",
            "models/wnet-model.h     [              <=>   ] 791.53M   171MB/s    in 4.7s    \n",
            "\n",
            "2021-06-12 18:52:06 (168 MB/s) - ‘models/wnet-model.hdf5’ saved [829979264]\n",
            "\n",
            "--2021-06-12 18:52:06--  https://docs.google.com/uc?export=download&confirm=fpeX&id=1vLRXyAFdcbXOD6XGFqtX4BN42cipm0U_\n",
            "Resolving docs.google.com (docs.google.com)... 173.194.203.101, 173.194.203.139, 173.194.203.138, ...\n",
            "Connecting to docs.google.com (docs.google.com)|173.194.203.101|:443... connected.\n",
            "HTTP request sent, awaiting response... 302 Moved Temporarily\n",
            "Location: https://doc-04-64-docs.googleusercontent.com/docs/securesc/vn52bu93pnndad7bjj4umtbkm5vbap3d/e4mucakf6jsmh1bo32va6pu879qeen3h/1623523875000/09567421642513250570/03280283507986300574Z/1vLRXyAFdcbXOD6XGFqtX4BN42cipm0U_?e=download [following]\n",
            "--2021-06-12 18:52:06--  https://doc-04-64-docs.googleusercontent.com/docs/securesc/vn52bu93pnndad7bjj4umtbkm5vbap3d/e4mucakf6jsmh1bo32va6pu879qeen3h/1623523875000/09567421642513250570/03280283507986300574Z/1vLRXyAFdcbXOD6XGFqtX4BN42cipm0U_?e=download\n",
            "Resolving doc-04-64-docs.googleusercontent.com (doc-04-64-docs.googleusercontent.com)... 172.253.117.132, 2607:f8b0:400e:c0a::84\n",
            "Connecting to doc-04-64-docs.googleusercontent.com (doc-04-64-docs.googleusercontent.com)|172.253.117.132|:443... connected.\n",
            "HTTP request sent, awaiting response... 302 Found\n",
            "Location: https://docs.google.com/nonceSigner?nonce=jq0d95g8moq0c&continue=https://doc-04-64-docs.googleusercontent.com/docs/securesc/vn52bu93pnndad7bjj4umtbkm5vbap3d/e4mucakf6jsmh1bo32va6pu879qeen3h/1623523875000/09567421642513250570/03280283507986300574Z/1vLRXyAFdcbXOD6XGFqtX4BN42cipm0U_?e%3Ddownload&hash=hlbrneh7b5r0441aqo5afoe5usne7a83 [following]\n",
            "--2021-06-12 18:52:07--  https://docs.google.com/nonceSigner?nonce=jq0d95g8moq0c&continue=https://doc-04-64-docs.googleusercontent.com/docs/securesc/vn52bu93pnndad7bjj4umtbkm5vbap3d/e4mucakf6jsmh1bo32va6pu879qeen3h/1623523875000/09567421642513250570/03280283507986300574Z/1vLRXyAFdcbXOD6XGFqtX4BN42cipm0U_?e%3Ddownload&hash=hlbrneh7b5r0441aqo5afoe5usne7a83\n",
            "Connecting to docs.google.com (docs.google.com)|173.194.203.101|:443... connected.\n",
            "HTTP request sent, awaiting response... 302 Found\n",
            "Location: https://doc-04-64-docs.googleusercontent.com/docs/securesc/vn52bu93pnndad7bjj4umtbkm5vbap3d/e4mucakf6jsmh1bo32va6pu879qeen3h/1623523875000/09567421642513250570/03280283507986300574Z/1vLRXyAFdcbXOD6XGFqtX4BN42cipm0U_?e=download&nonce=jq0d95g8moq0c&user=03280283507986300574Z&hash=2vuari1504iqnddv9mt8eqeen0n8uui5 [following]\n",
            "--2021-06-12 18:52:07--  https://doc-04-64-docs.googleusercontent.com/docs/securesc/vn52bu93pnndad7bjj4umtbkm5vbap3d/e4mucakf6jsmh1bo32va6pu879qeen3h/1623523875000/09567421642513250570/03280283507986300574Z/1vLRXyAFdcbXOD6XGFqtX4BN42cipm0U_?e=download&nonce=jq0d95g8moq0c&user=03280283507986300574Z&hash=2vuari1504iqnddv9mt8eqeen0n8uui5\n",
            "Connecting to doc-04-64-docs.googleusercontent.com (doc-04-64-docs.googleusercontent.com)|172.253.117.132|:443... connected.\n",
            "HTTP request sent, awaiting response... 200 OK\n",
            "Length: unspecified [application/octet-stream]\n",
            "Saving to: ‘models/vnet-model.hdf5’\n",
            "\n",
            "models/vnet-model.h     [    <=>             ] 198.72M   264MB/s    in 0.8s    \n",
            "\n",
            "2021-06-12 18:52:07 (264 MB/s) - ‘models/vnet-model.hdf5’ saved [208373480]\n",
            "\n",
            "--2021-06-12 18:52:08--  https://docs.google.com/uc?export=download&confirm=YPU6&id=1i1vy9uNPTtc2i_UePMIXuckjD56YNBpN\n",
            "Resolving docs.google.com (docs.google.com)... 74.125.195.102, 74.125.195.100, 74.125.195.113, ...\n",
            "Connecting to docs.google.com (docs.google.com)|74.125.195.102|:443... connected.\n",
            "HTTP request sent, awaiting response... 302 Moved Temporarily\n",
            "Location: https://doc-0s-1s-docs.googleusercontent.com/docs/securesc/pirl540vtou7op7jaujmjh9qkcellv7o/d300us5raadiljuldqqqjshbea8etvpm/1623523875000/04527171152057745305/02742309598037871960Z/1i1vy9uNPTtc2i_UePMIXuckjD56YNBpN?e=download [following]\n",
            "--2021-06-12 18:52:08--  https://doc-0s-1s-docs.googleusercontent.com/docs/securesc/pirl540vtou7op7jaujmjh9qkcellv7o/d300us5raadiljuldqqqjshbea8etvpm/1623523875000/04527171152057745305/02742309598037871960Z/1i1vy9uNPTtc2i_UePMIXuckjD56YNBpN?e=download\n",
            "Resolving doc-0s-1s-docs.googleusercontent.com (doc-0s-1s-docs.googleusercontent.com)... 172.253.117.132, 2607:f8b0:400e:c0a::84\n",
            "Connecting to doc-0s-1s-docs.googleusercontent.com (doc-0s-1s-docs.googleusercontent.com)|172.253.117.132|:443... connected.\n",
            "HTTP request sent, awaiting response... 302 Found\n",
            "Location: https://docs.google.com/nonceSigner?nonce=q3a4nguvk150i&continue=https://doc-0s-1s-docs.googleusercontent.com/docs/securesc/pirl540vtou7op7jaujmjh9qkcellv7o/d300us5raadiljuldqqqjshbea8etvpm/1623523875000/04527171152057745305/02742309598037871960Z/1i1vy9uNPTtc2i_UePMIXuckjD56YNBpN?e%3Ddownload&hash=c7l0ad0411sg716pdm5da1ila6i4d4bg [following]\n",
            "--2021-06-12 18:52:08--  https://docs.google.com/nonceSigner?nonce=q3a4nguvk150i&continue=https://doc-0s-1s-docs.googleusercontent.com/docs/securesc/pirl540vtou7op7jaujmjh9qkcellv7o/d300us5raadiljuldqqqjshbea8etvpm/1623523875000/04527171152057745305/02742309598037871960Z/1i1vy9uNPTtc2i_UePMIXuckjD56YNBpN?e%3Ddownload&hash=c7l0ad0411sg716pdm5da1ila6i4d4bg\n",
            "Connecting to docs.google.com (docs.google.com)|74.125.195.102|:443... connected.\n",
            "HTTP request sent, awaiting response... 302 Found\n",
            "Location: https://doc-0s-1s-docs.googleusercontent.com/docs/securesc/pirl540vtou7op7jaujmjh9qkcellv7o/d300us5raadiljuldqqqjshbea8etvpm/1623523875000/04527171152057745305/02742309598037871960Z/1i1vy9uNPTtc2i_UePMIXuckjD56YNBpN?e=download&nonce=q3a4nguvk150i&user=02742309598037871960Z&hash=8qrqok4s5hpj12vam6cnkpkhg9p9kieu [following]\n",
            "--2021-06-12 18:52:08--  https://doc-0s-1s-docs.googleusercontent.com/docs/securesc/pirl540vtou7op7jaujmjh9qkcellv7o/d300us5raadiljuldqqqjshbea8etvpm/1623523875000/04527171152057745305/02742309598037871960Z/1i1vy9uNPTtc2i_UePMIXuckjD56YNBpN?e=download&nonce=q3a4nguvk150i&user=02742309598037871960Z&hash=8qrqok4s5hpj12vam6cnkpkhg9p9kieu\n",
            "Connecting to doc-0s-1s-docs.googleusercontent.com (doc-0s-1s-docs.googleusercontent.com)|172.253.117.132|:443... connected.\n",
            "HTTP request sent, awaiting response... 200 OK\n",
            "Length: unspecified [application/octet-stream]\n",
            "Saving to: ‘models/unet-model.hdf5’\n",
            "\n",
            "models/unet-model.h     [                <=> ] 358.92M  91.1MB/s    in 3.9s    \n",
            "\n",
            "2021-06-12 18:52:12 (91.1 MB/s) - ‘models/unet-model.hdf5’ saved [376359424]\n",
            "\n",
            "--2021-06-12 18:52:12--  https://docs.google.com/uc?export=download&confirm=6poZ&id=1-giJ-Lh8NfdyxbJqPFIflC64iJ5nVhGN\n",
            "Resolving docs.google.com (docs.google.com)... 74.125.142.102, 74.125.142.113, 74.125.142.138, ...\n",
            "Connecting to docs.google.com (docs.google.com)|74.125.142.102|:443... connected.\n",
            "HTTP request sent, awaiting response... 302 Moved Temporarily\n",
            "Location: https://doc-0s-5k-docs.googleusercontent.com/docs/securesc/rdg3lobuf6ai6ti5jplklofclg9it2ct/a3rgsgdomjf3bn1n93b2po2d4hkidg4j/1623523875000/09567421642513250570/13223238637613159518Z/1-giJ-Lh8NfdyxbJqPFIflC64iJ5nVhGN?e=download [following]\n",
            "--2021-06-12 18:52:13--  https://doc-0s-5k-docs.googleusercontent.com/docs/securesc/rdg3lobuf6ai6ti5jplklofclg9it2ct/a3rgsgdomjf3bn1n93b2po2d4hkidg4j/1623523875000/09567421642513250570/13223238637613159518Z/1-giJ-Lh8NfdyxbJqPFIflC64iJ5nVhGN?e=download\n",
            "Resolving doc-0s-5k-docs.googleusercontent.com (doc-0s-5k-docs.googleusercontent.com)... 172.253.117.132, 2607:f8b0:400e:c0a::84\n",
            "Connecting to doc-0s-5k-docs.googleusercontent.com (doc-0s-5k-docs.googleusercontent.com)|172.253.117.132|:443... connected.\n",
            "HTTP request sent, awaiting response... 302 Found\n",
            "Location: https://docs.google.com/nonceSigner?nonce=2lb2n6a0a9onk&continue=https://doc-0s-5k-docs.googleusercontent.com/docs/securesc/rdg3lobuf6ai6ti5jplklofclg9it2ct/a3rgsgdomjf3bn1n93b2po2d4hkidg4j/1623523875000/09567421642513250570/13223238637613159518Z/1-giJ-Lh8NfdyxbJqPFIflC64iJ5nVhGN?e%3Ddownload&hash=n2a2d3tenc1aclueecfp5mn79q6gvvvv [following]\n",
            "--2021-06-12 18:52:13--  https://docs.google.com/nonceSigner?nonce=2lb2n6a0a9onk&continue=https://doc-0s-5k-docs.googleusercontent.com/docs/securesc/rdg3lobuf6ai6ti5jplklofclg9it2ct/a3rgsgdomjf3bn1n93b2po2d4hkidg4j/1623523875000/09567421642513250570/13223238637613159518Z/1-giJ-Lh8NfdyxbJqPFIflC64iJ5nVhGN?e%3Ddownload&hash=n2a2d3tenc1aclueecfp5mn79q6gvvvv\n",
            "Connecting to docs.google.com (docs.google.com)|74.125.142.102|:443... connected.\n",
            "HTTP request sent, awaiting response... 302 Found\n",
            "Location: https://doc-0s-5k-docs.googleusercontent.com/docs/securesc/rdg3lobuf6ai6ti5jplklofclg9it2ct/a3rgsgdomjf3bn1n93b2po2d4hkidg4j/1623523875000/09567421642513250570/13223238637613159518Z/1-giJ-Lh8NfdyxbJqPFIflC64iJ5nVhGN?e=download&nonce=2lb2n6a0a9onk&user=13223238637613159518Z&hash=1je4156jlrjrppcavagv0g4igiss48id [following]\n",
            "--2021-06-12 18:52:13--  https://doc-0s-5k-docs.googleusercontent.com/docs/securesc/rdg3lobuf6ai6ti5jplklofclg9it2ct/a3rgsgdomjf3bn1n93b2po2d4hkidg4j/1623523875000/09567421642513250570/13223238637613159518Z/1-giJ-Lh8NfdyxbJqPFIflC64iJ5nVhGN?e=download&nonce=2lb2n6a0a9onk&user=13223238637613159518Z&hash=1je4156jlrjrppcavagv0g4igiss48id\n",
            "Connecting to doc-0s-5k-docs.googleusercontent.com (doc-0s-5k-docs.googleusercontent.com)|172.253.117.132|:443... connected.\n",
            "HTTP request sent, awaiting response... 200 OK\n",
            "Length: unspecified [application/octet-stream]\n",
            "Saving to: ‘models/sobel-with-unet-model.hdf5’\n",
            "\n",
            "models/sobel-with-u     [         <=>        ] 216.24M   110MB/s    in 2.0s    \n",
            "\n",
            "2021-06-12 18:52:15 (110 MB/s) - ‘models/sobel-with-unet-model.hdf5’ saved [226740192]\n",
            "\n"
          ],
          "name": "stdout"
        }
      ]
    },
    {
      "cell_type": "markdown",
      "metadata": {
        "id": "FHeDRA7sVcQZ"
      },
      "source": [
        "### Importing all necessary libraries"
      ]
    },
    {
      "cell_type": "code",
      "metadata": {
        "id": "KDl2fuQOtiP7"
      },
      "source": [
        "import cv2\n",
        "import numpy as np\n",
        "import matplotlib.pyplot as plt\n",
        "from keras.models import load_model\n",
        "\n",
        "import os\n",
        "import glob\n",
        "\n",
        "import anvil.media\n",
        "\n",
        "import SimpleITK as sitk\n",
        "\n",
        "import anvil.server\n",
        "\n",
        "anvil.server.connect(\"AMNGHSSOIY2DV7JNG7QJHGEQ-ABEXJN7T66ARO6Q5\")"
      ],
      "execution_count": null,
      "outputs": []
    },
    {
      "cell_type": "markdown",
      "metadata": {
        "id": "NeFrbnbKWS6l"
      },
      "source": [
        "### This function converts nifti file into numpy array and returns numpy array of a given slice no. only"
      ]
    },
    {
      "cell_type": "code",
      "metadata": {
        "id": "oNuwHHcSudDR"
      },
      "source": [
        "def load_data(flair, t1, t1ce, t2,sliceno):\n",
        "  data = []\n",
        "  img_itk = sitk.ReadImage(flair)\n",
        "  flair = sitk.GetArrayFromImage(img_itk)\n",
        "  img_itk = sitk.ReadImage(t1)    \n",
        "  t1 =  sitk.GetArrayFromImage(img_itk)\n",
        "  img_itk = sitk.ReadImage(t1ce)\n",
        "  t1ce =  sitk.GetArrayFromImage(img_itk)\n",
        "  img_itk = sitk.ReadImage(t2)\n",
        "  t2 =  sitk.GetArrayFromImage(img_itk)\n",
        "  data.append([flair,t1,t1ce,t2])\n",
        "  data = np.asarray(data,dtype=np.float32)\n",
        "  data = np.transpose(data,(0,2,3,4,1))\n",
        "  data = data[:,30:120,30:222,30:222,:].reshape([-1,192,192,4]) \n",
        "  data = data[sliceno-30].reshape([1, 192, 192, -1])\n",
        "  return data"
      ],
      "execution_count": null,
      "outputs": []
    },
    {
      "cell_type": "markdown",
      "metadata": {
        "id": "Jj0D10MxXEH_"
      },
      "source": [
        "###This function generates the path for saving the nifti file and also loading the nifti file"
      ]
    },
    {
      "cell_type": "code",
      "metadata": {
        "id": "HhZzDAsrXDeu"
      },
      "source": [
        "def return_path(str):\n",
        "    return \"./uploads/{}.nii.gz\".format(str)"
      ],
      "execution_count": null,
      "outputs": []
    },
    {
      "cell_type": "markdown",
      "metadata": {
        "id": "S2-g3Y1GWozH"
      },
      "source": [
        "### This function saves the nifti file recieved from frontend"
      ]
    },
    {
      "cell_type": "code",
      "metadata": {
        "id": "nUjIzxTf7Sq4"
      },
      "source": [
        "def save_file(file, path):\n",
        "    with open(path, 'wb+') as f:\n",
        "      f.write(file.get_bytes())"
      ],
      "execution_count": null,
      "outputs": []
    },
    {
      "cell_type": "markdown",
      "metadata": {
        "id": "xC6NZFfDXRMI"
      },
      "source": [
        "###Loading downloaded models"
      ]
    },
    {
      "cell_type": "code",
      "metadata": {
        "id": "6CpzvyVTD12h"
      },
      "source": [
        "def dice_coef(y_true, y_pred, epsilon=1e-6):\n",
        "    intersection = K.sum(K.abs(y_true * y_pred), axis=-1)\n",
        "    return (2. * intersection) / (K.sum(K.square(y_true),axis=-1) + K.sum(K.square(y_pred),axis=-1) + epsilon)\n",
        "\n",
        "def dice_coef_loss(y_true, y_pred):\n",
        "    return 1-dice_coef(y_true, y_pred)\n",
        "\n",
        "sobel_unet_model = load_model(\"models/sobel-with-unet-model.hdf5\", custom_objects={'dice_coef_loss': dice_coef_loss, 'dice_coef': dice_coef })\n",
        "vnet_model = load_model(\"models/vnet-model.hdf5\", custom_objects={'dice_coef_loss': dice_coef_loss, 'dice_coef': dice_coef })\n",
        "wnet_model = load_model(\"models/wnet-model.hdf5\", custom_objects={'dice_coef_loss': dice_coef_loss, 'dice_coef': dice_coef })\n",
        "unet_model = load_model(\"models/unet-model.hdf5\", custom_objects={'dice_coef_loss': dice_coef_loss, 'dice_coef': dice_coef })"
      ],
      "execution_count": null,
      "outputs": []
    },
    {
      "cell_type": "markdown",
      "metadata": {
        "id": "_xXaDqy4Xg1q"
      },
      "source": [
        "###This function takes a numpy array and converts it to image to display in front-end"
      ]
    },
    {
      "cell_type": "code",
      "metadata": {
        "id": "8Sd9QivEEuyP"
      },
      "source": [
        "def npy_to_img(numpy_img, name):\n",
        "    plt.figure(figsize=(192, 192))\n",
        "    plt.imshow(numpy_img)\n",
        "    plt.axis('off')\n",
        "    fig = plt.gcf()\n",
        "    fig.savefig(fname=\"./images/\"+name +\".jpeg\", format='jpeg')\n",
        "    return anvil.media.from_file(\"./images/\"+name+\".jpeg\", 'image/jpeg')"
      ],
      "execution_count": null,
      "outputs": []
    },
    {
      "cell_type": "markdown",
      "metadata": {
        "id": "5zCFJxK1Xl3y"
      },
      "source": [
        "### Function for applying sobel operator on an image"
      ]
    },
    {
      "cell_type": "code",
      "metadata": {
        "id": "_v7zf_YdLGLg"
      },
      "source": [
        "def sobel(img):\n",
        "  img_sobelx = cv2.Sobel(img, cv2.CV_8U,1,0,ksize=3)\n",
        "  img_sobely = cv2.Sobel(img, cv2.CV_8U,0,1,ksize=3)\n",
        "  img_sobel = img_sobelx + img_sobely+img\n",
        "  return img_sobel"
      ],
      "execution_count": null,
      "outputs": []
    },
    {
      "cell_type": "markdown",
      "metadata": {
        "id": "NE5MFewBXwvf"
      },
      "source": [
        "### This function makes predictions and returns a dictionary with all image files to display in frontend"
      ]
    },
    {
      "cell_type": "code",
      "metadata": {
        "id": "t6aEdEtAEM-N"
      },
      "source": [
        "def predict_and_return_images(data):\n",
        "    ret_data = {}\n",
        "    files = glob.glob(\"./images/*\")             # Delete previously predicted images\n",
        "    if files:\n",
        "        for f in files:\n",
        "            os.remove(f)\n",
        "    \n",
        "    sobel_data = np.zeros_like(data)\n",
        "    for i in range(4):\n",
        "        sobel_data[0,:,:,i] = sobel(data[0,:,:,i])\n",
        "\n",
        "    data = (data-np.mean(data))/np.max(data)\n",
        "    sobel_data= (sobel_data-np.mean(sobel_data))/np.max(sobel_data)\n",
        "\n",
        "    sobel_unet_image = np.argmax(sobel_unet_model.predict(sobel_data),axis=-1)\n",
        "    sobel_unet_image = sobel_unet_image.reshape(-1,192,192,1)\n",
        "\n",
        "    unet_image = np.argmax(unet_model.predict(data),axis=-1)\n",
        "    unet_image = unet_image.reshape(-1,192,192,1)\n",
        "\n",
        "    vnet_image = np.argmax(vnet_model.predict(data),axis=-1)\n",
        "    vnet_image = vnet_image.reshape(-1,192,192,1)\n",
        "\n",
        "    wnet_image = np.argmax(wnet_model.predict(data),axis=-1)\n",
        "    wnet_image = wnet_image.reshape(-1,192,192,1)\n",
        "\n",
        "    ret_data['flair_img'] = npy_to_img(data[0,:,:,0], \"flair\")\n",
        "    ret_data['t1_img'] = npy_to_img(data[0,:,:,1], \"t1\")\n",
        "    ret_data['t1ce_img'] = npy_to_img(data[0,:,:,2], \"t1ce\")\n",
        "    ret_data['t2_img'] = npy_to_img(data[0,:,:,3], \"t2\")\n",
        "    \n",
        "    ret_data['sobel_unet_img'] = npy_to_img(sobel_unet_image[0,:,:,0], \"sobel_unet_image\")\n",
        "    ret_data['unet_img'] = npy_to_img(unet_image[0,:,:,0], \"unet_image\")\n",
        "    ret_data['vnet_img'] = npy_to_img(vnet_image[0,:,:,0], \"vnet_image\")\n",
        "    ret_data['wnet_img'] = npy_to_img(wnet_image[0,:,:,0], \"wnet_image\")\n",
        "\n",
        "    return ret_data"
      ],
      "execution_count": null,
      "outputs": []
    },
    {
      "cell_type": "markdown",
      "metadata": {
        "id": "EMxOInp_YDrR"
      },
      "source": [
        "###This Function acts as a server. It takes parameters from frontend, do predictions, and send images to frontend."
      ]
    },
    {
      "cell_type": "code",
      "metadata": {
        "id": "ShO5tbMVt6vY"
      },
      "source": [
        "@anvil.server.callable\n",
        "def preprocess_predict(flair, t1, t1ce, t2, sliceno):\n",
        "  flair_path = return_path(\"flair\")\n",
        "  t1_path = return_path(\"t1\")\n",
        "  t1ce_path = return_path(\"t1ce\")\n",
        "  t2_path = return_path(\"t2\")\n",
        "  sliceno = int(sliceno)\n",
        "  \n",
        "  save_file(flair, flair_path)\n",
        "  save_file(t1, t1_path)\n",
        "  save_file(t1ce, t1ce_path)\n",
        "  save_file(t2, t2_path)\n",
        "\n",
        "  data = load_data(flair_path, t1_path, t1ce_path, t2_path, sliceno)\n",
        "  ret_data = predict_and_return_images(data)\n",
        "  return ret_data"
      ],
      "execution_count": null,
      "outputs": []
    }
  ]
}