{
  "nbformat": 4,
  "nbformat_minor": 0,
  "metadata": {
    "accelerator": "GPU",
    "colab": {
      "name": "Modified U-Net with sobel operator.ipynb",
      "provenance": [],
      "collapsed_sections": [],
      "machine_shape": "hm"
    },
    "kernelspec": {
      "display_name": "Python 3",
      "name": "python3"
    }
  },
  "cells": [
    {
      "cell_type": "code",
      "metadata": {
        "id": "yuhGP_fSBIq0"
      },
      "source": [
        "from google.colab import drive\n",
        "import os\n",
        "drive.mount('/content/drive',force_remount=True)\n",
        "os.chdir('/content/drive/My Drive/')"
      ],
      "execution_count": null,
      "outputs": []
    },
    {
      "cell_type": "code",
      "metadata": {
        "id": "A0tb3yiRA9s7"
      },
      "source": [
        "!pip install SimpleITK"
      ],
      "execution_count": null,
      "outputs": []
    },
    {
      "cell_type": "code",
      "metadata": {
        "id": "pqZIrf08FC13"
      },
      "source": [
        "import numpy as np\n",
        "import matplotlib.pyplot as plt\n",
        "import SimpleITK as sitk\n",
        "from tqdm import tqdm\n",
        "\n",
        "from keras.utils import to_categorical,normalize\n",
        "from keras.models import Model\n",
        "from keras.layers import MaxPooling2D,Conv2D,Dense,BatchNormalization,Concatenate,Input,Dropout,Maximum,Activation,Dense,Flatten,UpSampling2D,Conv2DTranspose,Add,Multiply,Lambda\n",
        "from keras.optimizers import SGD,Adam,RMSprop\n",
        "import keras.callbacks as callbacks\n",
        "import keras.initializers as initializers\n",
        "from keras.callbacks import Callback\n",
        "from keras import regularizers\n",
        "from keras import backend as K\n",
        "\n",
        "from sklearn.model_selection import train_test_split\n"
      ],
      "execution_count": null,
      "outputs": []
    },
    {
      "cell_type": "code",
      "metadata": {
        "id": "pubWk3W_BP5i"
      },
      "source": [
        "path = './HGG1/'"
      ],
      "execution_count": null,
      "outputs": []
    },
    {
      "cell_type": "code",
      "metadata": {
        "id": "4xTH62qNBnIb"
      },
      "source": [
        "def load_data(path):\n",
        "  my_dir = sorted(os.listdir(path))\n",
        "  data = []\n",
        "  gt = []\n",
        "  for p in tqdm(my_dir):\n",
        "    data_list = sorted(os.listdir(path+p))\n",
        "    img_itk = sitk.ReadImage(path + p + '/'+ data_list[0])\n",
        "    flair = sitk.GetArrayFromImage(img_itk)\n",
        "    img_itk = sitk.ReadImage(path + p + '/'+ data_list[1])\n",
        "    seg =  sitk.GetArrayFromImage(img_itk)\n",
        "    img_itk = sitk.ReadImage(path + p + '/'+ data_list[2])    \n",
        "    t1 =  sitk.GetArrayFromImage(img_itk)\n",
        "    img_itk = sitk.ReadImage(path + p + '/'+ data_list[3])\n",
        "    t1ce =  sitk.GetArrayFromImage(img_itk)\n",
        "    img_itk = sitk.ReadImage(path + p + '/'+ data_list[4])\n",
        "    t2 =  sitk.GetArrayFromImage(img_itk)\n",
        "    data.append([flair,t1,t1ce,t2])\n",
        "    gt.append(seg)\n",
        "  data = np.asarray(data,dtype=np.float32)\n",
        "  gt = np.asarray(gt,dtype=np.uint8)\n",
        "  return data, gt"
      ],
      "execution_count": null,
      "outputs": []
    },
    {
      "cell_type": "code",
      "metadata": {
        "colab": {
          "base_uri": "https://localhost:8080/"
        },
        "id": "W2-UESsGB85A",
        "outputId": "008aac42-1391-4667-81d9-6c2619d24bf3"
      },
      "source": [
        "data,gt = load_data(path)"
      ],
      "execution_count": null,
      "outputs": [
        {
          "output_type": "stream",
          "text": [
            "100%|██████████| 50/50 [02:43<00:00,  3.27s/it]\n"
          ],
          "name": "stderr"
        }
      ]
    },
    {
      "cell_type": "code",
      "metadata": {
        "id": "dFvRnO1dc4mK"
      },
      "source": [
        "data = np.transpose(data,(0,2,3,4,1))"
      ],
      "execution_count": null,
      "outputs": []
    },
    {
      "cell_type": "code",
      "metadata": {
        "id": "R-3qvFe_c5xj"
      },
      "source": [
        "data = data[:,30:120,30:222,30:222,:].reshape([-1,192,192,4])   #taking 30-120 slices\n",
        "gt = gt[:,30:120,30:222,30:222].reshape([-1,192,192,1])"
      ],
      "execution_count": null,
      "outputs": []
    },
    {
      "cell_type": "code",
      "metadata": {
        "id": "T4iKfFK21N2A"
      },
      "source": [
        "\n",
        "import numpy as np\n",
        "import matplotlib.pyplot as plt\n",
        "\n",
        "from keras.utils import to_categorical,normalize\n",
        "from keras.models import Model\n",
        "from keras.layers import MaxPooling2D,Conv2D,Dense,BatchNormalization,Concatenate,Input,Dropout,Maximum,Activation,Dense,Flatten,UpSampling2D,Conv2DTranspose,Add,Multiply,Lambda\n",
        "from keras.optimizers import SGD,Adam,RMSprop\n",
        "import keras.callbacks as callbacks\n",
        "import keras.initializers as initializers\n",
        "from keras.callbacks import Callback\n",
        "from keras import regularizers\n",
        "from keras import backend as K\n",
        "\n",
        "from skimage.segmentation import watershed\n",
        "\n",
        "\n",
        "from sklearn.model_selection import train_test_split\n"
      ],
      "execution_count": null,
      "outputs": []
    },
    {
      "cell_type": "code",
      "metadata": {
        "id": "h3ctQIlrjP7-"
      },
      "source": [
        "wdata = np.zeros_like(data)"
      ],
      "execution_count": null,
      "outputs": []
    },
    {
      "cell_type": "code",
      "metadata": {
        "id": "cEJnl3cCAloP"
      },
      "source": [
        "gt[np.where(gt==4)]=3   #converting ground truth value of 4 to 3 => one hot encoding"
      ],
      "execution_count": null,
      "outputs": []
    },
    {
      "cell_type": "code",
      "metadata": {
        "id": "4AGaZh10qc6x"
      },
      "source": [
        "import cv2\n",
        "\n",
        "def sobel(img):\n",
        "  Gx= np.array([[-1, 0, 1], [-2, 0, 2], [-1, 0, 1]])\n",
        "  Gy = np.array([[1, 2, 1], [0, 0, 0], [-1, -2, -1]])\n",
        "  img_sobelx = cv2.Sobel(img, cv2.CV_8U,1,0,ksize=3)\n",
        "  img_sobely = cv2.Sobel(img, cv2.CV_8U,0,1,ksize=3)\n",
        "  img_sobel = img_sobelx + img_sobely+img\n",
        "  return img_sobel\n"
      ],
      "execution_count": null,
      "outputs": []
    },
    {
      "cell_type": "code",
      "metadata": {
        "colab": {
          "base_uri": "https://localhost:8080/",
          "height": 265
        },
        "id": "rgaSsXlD9FbL",
        "outputId": "2e2e1a0a-3ab3-464c-d0b3-ff3273ea94c2"
      },
      "source": [
        "plt.imshow(sobel(data[40, :, :, 2]))\n",
        "plt.axis(\"off\")"
      ],
      "execution_count": null,
      "outputs": [
        {
          "output_type": "execute_result",
          "data": {
            "text/plain": [
              "(-0.5, 191.5, 191.5, -0.5)"
            ]
          },
          "metadata": {
            "tags": []
          },
          "execution_count": 7
        },
        {
          "output_type": "display_data",
          "data": {
            "image/png": "[encoded data removed]",
            "text/plain": [
              "<Figure size 432x288 with 1 Axes>"
            ]
          },
          "metadata": {
            "tags": [],
            "needs_background": "light"
          }
        }
      ]
    },
    {
      "cell_type": "code",
      "metadata": {
        "id": "4dA0U375jqdQ"
      },
      "source": [
        "for i in range(len(data)):\n",
        "  for j in range(4):\n",
        "    wdata[i,:,:,j] = sobel(data[i,:,:,j])"
      ],
      "execution_count": null,
      "outputs": []
    },
    {
      "cell_type": "code",
      "metadata": {
        "id": "6R48jIx1N0nv"
      },
      "source": [
        "X_train, X_test, Y_train, Y_test = train_test_split(wdata, gt, test_size=0.2, random_state=42)\n",
        "X_train, X_val, Y_train, Y_val = train_test_split(X_train, Y_train, test_size=0.25,random_state=42)"
      ],
      "execution_count": null,
      "outputs": []
    },
    {
      "cell_type": "code",
      "metadata": {
        "id": "1yN7fCRoTaAQ"
      },
      "source": [
        "Y_train = to_categorical(Y_train)\n",
        "Y_val = to_categorical(Y_val)\n",
        "X_train = (X_train-np.mean(X_train))/np.max(X_train)\n",
        "X_test = (X_test-np.mean(X_test))/np.max(X_test)\n",
        "X_val = (X_val-np.mean(X_val))/np.max(X_val)"
      ],
      "execution_count": null,
      "outputs": []
    },
    {
      "cell_type": "code",
      "metadata": {
        "colab": {
          "base_uri": "https://localhost:8080/"
        },
        "id": "LIYVglRp2B7K",
        "outputId": "8567a946-953b-4529-b532-4f81ef7df5da"
      },
      "source": [
        "X_train.shape,Y_train.shape, X_val.shape, Y_val.shape, X_test.shape, Y_test.shape"
      ],
      "execution_count": null,
      "outputs": [
        {
          "output_type": "execute_result",
          "data": {
            "text/plain": [
              "((2700, 192, 192, 4),\n",
              " (2700, 192, 192, 4),\n",
              " (900, 192, 192, 4),\n",
              " (900, 192, 192, 4),\n",
              " (900, 192, 192, 4),\n",
              " (900, 192, 192, 1))"
            ]
          },
          "metadata": {
            "tags": []
          },
          "execution_count": 11
        }
      ]
    },
    {
      "cell_type": "code",
      "metadata": {
        "colab": {
          "base_uri": "https://localhost:8080/"
        },
        "id": "M0i1H3FswM8W",
        "outputId": "a09ccf88-f9cf-4ba1-f70d-73aab907ac6d"
      },
      "source": [
        "X_train.shape,Y_train.shape,X_val.shape,Y_val.shape"
      ],
      "execution_count": null,
      "outputs": [
        {
          "output_type": "execute_result",
          "data": {
            "text/plain": [
              "((2700, 192, 192, 4),\n",
              " (2700, 192, 192, 4),\n",
              " (900, 192, 192, 4),\n",
              " (900, 192, 192, 4))"
            ]
          },
          "metadata": {
            "tags": []
          },
          "execution_count": 12
        }
      ]
    },
    {
      "cell_type": "markdown",
      "metadata": {
        "id": "tvcU4hSRFuJM"
      },
      "source": [
        "# UNet Model - With Additive Skip Connections\n"
      ]
    },
    {
      "cell_type": "code",
      "metadata": {
        "id": "FZ3asv7Pqsjr"
      },
      "source": [
        "def dice_coef(y_true, y_pred, epsilon=1e-6):\n",
        "    intersection = K.sum(K.abs(y_true * y_pred), axis=-1)\n",
        "    return (2. * intersection) / (K.sum(K.square(y_true),axis=-1) + K.sum(K.square(y_pred),axis=-1) + epsilon)\n",
        "\n",
        "def dice_coef_loss(y_true, y_pred):\n",
        "    return 1-dice_coef(y_true, y_pred)"
      ],
      "execution_count": null,
      "outputs": []
    },
    {
      "cell_type": "code",
      "metadata": {
        "colab": {
          "base_uri": "https://localhost:8080/"
        },
        "id": "MjcJBD44cMh8",
        "outputId": "dc69ac46-7119-4080-98a4-404ecdf953af"
      },
      "source": [
        "#encoder\n",
        "\n",
        "inputs = Input(shape=(192,192,4),name='input')                                              \n",
        "\n",
        "block0_conv1 = Conv2D(32, 3,padding='same',activation='relu',name='block0_conv1')(inputs)\n",
        "block0_norm1 = BatchNormalization(name='block0_batch_norm1')(block0_conv1)\n",
        "block0_conv2 = Conv2D(32, 3,padding='same',activation='relu',name='block0_conv2')(block0_norm1)\n",
        "block0_norm2 = BatchNormalization(name='block0_batch_norm2')(block0_conv2)\n",
        "block0_pool = MaxPooling2D(name='block0_pool')(block0_norm2)\n",
        "\n",
        "block1_conv1 = Conv2D(64,3,padding='same',activation='relu',name='block1_conv1')(block0_pool)\n",
        "block1_norm1 = BatchNormalization(name='block1_batch_norm1')(block1_conv1)\n",
        "block1_conv2 = Conv2D(64,3,padding='same',activation='relu',name='block1_conv2')(block1_norm1)\n",
        "block1_norm2 = BatchNormalization(name='block1_batch_norm2')(block1_conv2)\n",
        "block1_pool = MaxPooling2D(name='block1_pool')(block1_norm2)\n",
        "\n",
        "block2_conv1 = Conv2D(128,3,padding='same',activation='relu',name='block2_conv1')(block1_pool)\n",
        "block2_norm1 = BatchNormalization(name='block2_batch_norm1')(block2_conv1)\n",
        "block2_conv2 = Conv2D(128,3,padding='same',activation='relu',name='block2_conv2')(block2_norm1)\n",
        "block2_norm2 = BatchNormalization(name='block2_batch_norm2')(block2_conv2)\n",
        "block2_pool = MaxPooling2D(name='block2_pool')(block2_norm2)\n",
        "\n",
        "encoder_dropout_1 = Dropout(0.2,name='encoder_dropout_1')(block2_pool)\n",
        "\n",
        "block3_conv1 = Conv2D(256,3,padding='same',activation='relu',name='block3_conv1')(encoder_dropout_1)\n",
        "block3_norm1 = BatchNormalization(name='block3_batch_norm1')(block3_conv1)\n",
        "block3_conv2 = Conv2D(256,3,padding='same',activation='relu',name='block3_conv2')(block3_norm1)\n",
        "block3_norm2 = BatchNormalization(name='block3_batch_norm2')(block3_conv2)\n",
        "block3_pool = MaxPooling2D(name='block3_pool')(block3_norm2)\n",
        "\n",
        "block4_conv1 = Conv2D(512,3,padding='same',activation='relu',name='block4_conv1')(block3_pool)\n",
        "block4_norm1 = BatchNormalization(name='block4_batch_norm1')(block4_conv1)\n",
        "block4_conv2 = Conv2D(512,3,padding='same',activation='relu',name='block4_conv2')(block4_norm1)\n",
        "block4_norm2 = BatchNormalization(name='block4_batch_norm2')(block4_conv2)\n",
        "block4_pool = MaxPooling2D(name='block4_pool')(block4_norm2)\n",
        "\n",
        "block5_conv1 = Conv2D(1024,3,padding='same',activation='relu',name='block5_conv1')(block4_pool)\n",
        "\n",
        "#decoder\n",
        "up_pool1 = Conv2DTranspose(512,3,strides = (2, 2),padding='same',activation='relu',name='up_pool1')(block5_conv1)\n",
        "merged_block1 = Add()([block4_norm1, block4_norm2, up_pool1])\n",
        "decod_block1_conv1 = Conv2D(512,3, padding = 'same', activation='relu',name='decod_block1_conv1')(merged_block1)\n",
        "\n",
        "up_pool2 = Conv2DTranspose(256,3,strides = (2, 2),padding='same',activation='relu',name='up_pool2')(decod_block1_conv1)\n",
        "merged_block2 = Add()([block3_norm1, block3_norm2, up_pool2])\n",
        "decod_block2_conv1 = Conv2D(256,3,padding = 'same',activation='relu',name='decod_block2_conv1')(merged_block2)\n",
        "\n",
        "decoder_dropout_1 = Dropout(0.2,name='decoder_dropout_1')(decod_block2_conv1)\n",
        "\n",
        "up_pool3 = Conv2DTranspose(128,3,strides = (2, 2),padding='same',activation='relu',name='up_pool3')(decoder_dropout_1)\n",
        "merged_block3 = Add()([block2_norm1, block2_norm2 ,up_pool3])\n",
        "decod_block3_conv1 = Conv2D(128,3,padding = 'same',activation='relu',name='decod_block3_conv1')(merged_block3)\n",
        "\n",
        "up_pool4 = Conv2DTranspose(64,3,strides = (2, 2),padding='same',activation='relu',name='up_pool4')(decod_block3_conv1)\n",
        "merged_block4 = Add()([block1_norm1, block1_norm1, up_pool4])\n",
        "decod_block4_conv1 = Conv2D(64,3,padding = 'same',activation='relu',name='decod_block4_conv1')(merged_block4)\n",
        "\n",
        "up_pool5 = Conv2DTranspose(32,3,strides = (2, 2),padding='same',activation='relu',name='up_pool5')(decod_block4_conv1)\n",
        "merged_block5 = Add()([block0_norm1, block0_norm2 ,up_pool5])\n",
        "decod_block5_conv1 = Conv2D(32,3,padding = 'same',activation='relu',name='decod_block5_conv1')(merged_block5)\n",
        "\n",
        "pre_output = Conv2D(32,1,padding = 'same',activation='relu',name='pre_output')(decod_block5_conv1)\n",
        "\n",
        "output = Conv2D(4,1,padding='same',activation='softmax',name='output')(pre_output)\n",
        "\n",
        "model = Model(inputs = inputs, outputs = output)\n",
        "model.summary()"
      ],
      "execution_count": null,
      "outputs": [
        {
          "output_type": "stream",
          "text": [
            "Model: \"model\"\n",
            "__________________________________________________________________________________________________\n",
            "Layer (type)                    Output Shape         Param #     Connected to                     \n",
            "==================================================================================================\n",
            "input (InputLayer)              [(None, 192, 192, 4) 0                                            \n",
            "__________________________________________________________________________________________________\n",
            "block0_conv1 (Conv2D)           (None, 192, 192, 32) 1184        input[0][0]                      \n",
            "__________________________________________________________________________________________________\n",
            "block0_batch_norm1 (BatchNormal (None, 192, 192, 32) 128         block0_conv1[0][0]               \n",
            "__________________________________________________________________________________________________\n",
            "block0_conv2 (Conv2D)           (None, 192, 192, 32) 9248        block0_batch_norm1[0][0]         \n",
            "__________________________________________________________________________________________________\n",
            "block0_batch_norm2 (BatchNormal (None, 192, 192, 32) 128         block0_conv2[0][0]               \n",
            "__________________________________________________________________________________________________\n",
            "block0_pool (MaxPooling2D)      (None, 96, 96, 32)   0           block0_batch_norm2[0][0]         \n",
            "__________________________________________________________________________________________________\n",
            "block1_conv1 (Conv2D)           (None, 96, 96, 64)   18496       block0_pool[0][0]                \n",
            "__________________________________________________________________________________________________\n",
            "block1_batch_norm1 (BatchNormal (None, 96, 96, 64)   256         block1_conv1[0][0]               \n",
            "__________________________________________________________________________________________________\n",
            "block1_conv2 (Conv2D)           (None, 96, 96, 64)   36928       block1_batch_norm1[0][0]         \n",
            "__________________________________________________________________________________________________\n",
            "block1_batch_norm2 (BatchNormal (None, 96, 96, 64)   256         block1_conv2[0][0]               \n",
            "__________________________________________________________________________________________________\n",
            "block1_pool (MaxPooling2D)      (None, 48, 48, 64)   0           block1_batch_norm2[0][0]         \n",
            "__________________________________________________________________________________________________\n",
            "block2_conv1 (Conv2D)           (None, 48, 48, 128)  73856       block1_pool[0][0]                \n",
            "__________________________________________________________________________________________________\n",
            "block2_batch_norm1 (BatchNormal (None, 48, 48, 128)  512         block2_conv1[0][0]               \n",
            "__________________________________________________________________________________________________\n",
            "block2_conv2 (Conv2D)           (None, 48, 48, 128)  147584      block2_batch_norm1[0][0]         \n",
            "__________________________________________________________________________________________________\n",
            "block2_batch_norm2 (BatchNormal (None, 48, 48, 128)  512         block2_conv2[0][0]               \n",
            "__________________________________________________________________________________________________\n",
            "block2_pool (MaxPooling2D)      (None, 24, 24, 128)  0           block2_batch_norm2[0][0]         \n",
            "__________________________________________________________________________________________________\n",
            "encoder_dropout_1 (Dropout)     (None, 24, 24, 128)  0           block2_pool[0][0]                \n",
            "__________________________________________________________________________________________________\n",
            "block3_conv1 (Conv2D)           (None, 24, 24, 256)  295168      encoder_dropout_1[0][0]          \n",
            "__________________________________________________________________________________________________\n",
            "block3_batch_norm1 (BatchNormal (None, 24, 24, 256)  1024        block3_conv1[0][0]               \n",
            "__________________________________________________________________________________________________\n",
            "block3_conv2 (Conv2D)           (None, 24, 24, 256)  590080      block3_batch_norm1[0][0]         \n",
            "__________________________________________________________________________________________________\n",
            "block3_batch_norm2 (BatchNormal (None, 24, 24, 256)  1024        block3_conv2[0][0]               \n",
            "__________________________________________________________________________________________________\n",
            "block3_pool (MaxPooling2D)      (None, 12, 12, 256)  0           block3_batch_norm2[0][0]         \n",
            "__________________________________________________________________________________________________\n",
            "block4_conv1 (Conv2D)           (None, 12, 12, 512)  1180160     block3_pool[0][0]                \n",
            "__________________________________________________________________________________________________\n",
            "block4_batch_norm1 (BatchNormal (None, 12, 12, 512)  2048        block4_conv1[0][0]               \n",
            "__________________________________________________________________________________________________\n",
            "block4_conv2 (Conv2D)           (None, 12, 12, 512)  2359808     block4_batch_norm1[0][0]         \n",
            "__________________________________________________________________________________________________\n",
            "block4_batch_norm2 (BatchNormal (None, 12, 12, 512)  2048        block4_conv2[0][0]               \n",
            "__________________________________________________________________________________________________\n",
            "block4_pool (MaxPooling2D)      (None, 6, 6, 512)    0           block4_batch_norm2[0][0]         \n",
            "__________________________________________________________________________________________________\n",
            "block5_conv1 (Conv2D)           (None, 6, 6, 1024)   4719616     block4_pool[0][0]                \n",
            "__________________________________________________________________________________________________\n",
            "up_pool1 (Conv2DTranspose)      (None, 12, 12, 512)  4719104     block5_conv1[0][0]               \n",
            "__________________________________________________________________________________________________\n",
            "add (Add)                       (None, 12, 12, 512)  0           block4_batch_norm1[0][0]         \n",
            "                                                                 block4_batch_norm2[0][0]         \n",
            "                                                                 up_pool1[0][0]                   \n",
            "__________________________________________________________________________________________________\n",
            "decod_block1_conv1 (Conv2D)     (None, 12, 12, 512)  2359808     add[0][0]                        \n",
            "__________________________________________________________________________________________________\n",
            "up_pool2 (Conv2DTranspose)      (None, 24, 24, 256)  1179904     decod_block1_conv1[0][0]         \n",
            "__________________________________________________________________________________________________\n",
            "add_1 (Add)                     (None, 24, 24, 256)  0           block3_batch_norm1[0][0]         \n",
            "                                                                 block3_batch_norm2[0][0]         \n",
            "                                                                 up_pool2[0][0]                   \n",
            "__________________________________________________________________________________________________\n",
            "decod_block2_conv1 (Conv2D)     (None, 24, 24, 256)  590080      add_1[0][0]                      \n",
            "__________________________________________________________________________________________________\n",
            "decoder_dropout_1 (Dropout)     (None, 24, 24, 256)  0           decod_block2_conv1[0][0]         \n",
            "__________________________________________________________________________________________________\n",
            "up_pool3 (Conv2DTranspose)      (None, 48, 48, 128)  295040      decoder_dropout_1[0][0]          \n",
            "__________________________________________________________________________________________________\n",
            "add_2 (Add)                     (None, 48, 48, 128)  0           block2_batch_norm1[0][0]         \n",
            "                                                                 block2_batch_norm2[0][0]         \n",
            "                                                                 up_pool3[0][0]                   \n",
            "__________________________________________________________________________________________________\n",
            "decod_block3_conv1 (Conv2D)     (None, 48, 48, 128)  147584      add_2[0][0]                      \n",
            "__________________________________________________________________________________________________\n",
            "up_pool4 (Conv2DTranspose)      (None, 96, 96, 64)   73792       decod_block3_conv1[0][0]         \n",
            "__________________________________________________________________________________________________\n",
            "add_3 (Add)                     (None, 96, 96, 64)   0           block1_batch_norm1[0][0]         \n",
            "                                                                 block1_batch_norm1[0][0]         \n",
            "                                                                 up_pool4[0][0]                   \n",
            "__________________________________________________________________________________________________\n",
            "decod_block4_conv1 (Conv2D)     (None, 96, 96, 64)   36928       add_3[0][0]                      \n",
            "__________________________________________________________________________________________________\n",
            "up_pool5 (Conv2DTranspose)      (None, 192, 192, 32) 18464       decod_block4_conv1[0][0]         \n",
            "__________________________________________________________________________________________________\n",
            "add_4 (Add)                     (None, 192, 192, 32) 0           block0_batch_norm1[0][0]         \n",
            "                                                                 block0_batch_norm2[0][0]         \n",
            "                                                                 up_pool5[0][0]                   \n",
            "__________________________________________________________________________________________________\n",
            "decod_block5_conv1 (Conv2D)     (None, 192, 192, 32) 9248        add_4[0][0]                      \n",
            "__________________________________________________________________________________________________\n",
            "pre_output (Conv2D)             (None, 192, 192, 32) 1056        decod_block5_conv1[0][0]         \n",
            "__________________________________________________________________________________________________\n",
            "output (Conv2D)                 (None, 192, 192, 4)  132         pre_output[0][0]                 \n",
            "==================================================================================================\n",
            "Total params: 18,871,204\n",
            "Trainable params: 18,867,236\n",
            "Non-trainable params: 3,968\n",
            "__________________________________________________________________________________________________\n"
          ],
          "name": "stdout"
        }
      ]
    },
    {
      "cell_type": "code",
      "metadata": {
        "id": "Kb78rAHs-4np"
      },
      "source": [
        "model.compile(optimizer=Adam(lr=1e-5),loss=dice_coef_loss,metrics=[dice_coef,'accuracy'])\n",
        "model.save_weights('weights.hdf5')\n",
        "checkpointer = callbacks.ModelCheckpoint(filepath = 'weights.hdf5',save_best_only=True)\n",
        "training_log = callbacks.TensorBoard(log_dir='./Model_logs')"
      ],
      "execution_count": null,
      "outputs": []
    },
    {
      "cell_type": "code",
      "metadata": {
        "colab": {
          "base_uri": "https://localhost:8080/"
        },
        "id": "GROyVhav_LYT",
        "outputId": "abfea81d-2a6c-458c-b245-06a26783c4e1"
      },
      "source": [
        "history = model.fit(X_train,Y_train,validation_data=(X_val,Y_val),batch_size=8,epochs=30,callbacks=[training_log,checkpointer],shuffle=True)"
      ],
      "execution_count": null,
      "outputs": [
        {
          "output_type": "stream",
          "text": [
            "Epoch 1/30\n",
            "338/338 [==============================] - 130s 282ms/step - loss: 0.5779 - dice_coef: 0.4221 - accuracy: 0.3098 - val_loss: 0.0317 - val_dice_coef: 0.9683 - val_accuracy: 0.9687\n",
            "Epoch 2/30\n",
            "338/338 [==============================] - 90s 265ms/step - loss: 0.0301 - dice_coef: 0.9699 - accuracy: 0.9700 - val_loss: 0.0298 - val_dice_coef: 0.9702 - val_accuracy: 0.9702\n",
            "Epoch 3/30\n",
            "338/338 [==============================] - 90s 265ms/step - loss: 0.0285 - dice_coef: 0.9715 - accuracy: 0.9716 - val_loss: 0.0295 - val_dice_coef: 0.9705 - val_accuracy: 0.9705\n",
            "Epoch 4/30\n",
            "338/338 [==============================] - 90s 265ms/step - loss: 0.0291 - dice_coef: 0.9709 - accuracy: 0.9709 - val_loss: 0.0295 - val_dice_coef: 0.9705 - val_accuracy: 0.9705\n",
            "Epoch 5/30\n",
            "338/338 [==============================] - 90s 265ms/step - loss: 0.0292 - dice_coef: 0.9708 - accuracy: 0.9708 - val_loss: 0.0295 - val_dice_coef: 0.9705 - val_accuracy: 0.9705\n",
            "Epoch 6/30\n",
            "338/338 [==============================] - 90s 265ms/step - loss: 0.0294 - dice_coef: 0.9706 - accuracy: 0.9707 - val_loss: 0.0295 - val_dice_coef: 0.9705 - val_accuracy: 0.9705\n",
            "Epoch 7/30\n",
            "338/338 [==============================] - 89s 265ms/step - loss: 0.0292 - dice_coef: 0.9708 - accuracy: 0.9708 - val_loss: 0.0295 - val_dice_coef: 0.9705 - val_accuracy: 0.9705\n",
            "Epoch 8/30\n",
            "338/338 [==============================] - 90s 265ms/step - loss: 0.0276 - dice_coef: 0.9724 - accuracy: 0.9724 - val_loss: 0.0295 - val_dice_coef: 0.9705 - val_accuracy: 0.9705\n",
            "Epoch 9/30\n",
            "338/338 [==============================] - 90s 265ms/step - loss: 0.0295 - dice_coef: 0.9705 - accuracy: 0.9705 - val_loss: 0.0295 - val_dice_coef: 0.9705 - val_accuracy: 0.9705\n",
            "Epoch 10/30\n",
            "338/338 [==============================] - 90s 265ms/step - loss: 0.0292 - dice_coef: 0.9708 - accuracy: 0.9708 - val_loss: 0.0295 - val_dice_coef: 0.9705 - val_accuracy: 0.9705\n",
            "Epoch 11/30\n",
            "338/338 [==============================] - 90s 265ms/step - loss: 0.0286 - dice_coef: 0.9714 - accuracy: 0.9714 - val_loss: 0.0295 - val_dice_coef: 0.9705 - val_accuracy: 0.9705\n",
            "Epoch 12/30\n",
            "338/338 [==============================] - 89s 265ms/step - loss: 0.0294 - dice_coef: 0.9706 - accuracy: 0.9706 - val_loss: 0.0295 - val_dice_coef: 0.9705 - val_accuracy: 0.9705\n",
            "Epoch 13/30\n",
            "338/338 [==============================] - 89s 264ms/step - loss: 0.0292 - dice_coef: 0.9708 - accuracy: 0.9708 - val_loss: 0.0295 - val_dice_coef: 0.9705 - val_accuracy: 0.9705\n",
            "Epoch 14/30\n",
            "338/338 [==============================] - 90s 265ms/step - loss: 0.0294 - dice_coef: 0.9706 - accuracy: 0.9706 - val_loss: 0.0295 - val_dice_coef: 0.9705 - val_accuracy: 0.9705\n",
            "Epoch 15/30\n",
            "338/338 [==============================] - 89s 264ms/step - loss: 0.0292 - dice_coef: 0.9708 - accuracy: 0.9708 - val_loss: 0.0295 - val_dice_coef: 0.9705 - val_accuracy: 0.9705\n",
            "Epoch 16/30\n",
            "338/338 [==============================] - 89s 265ms/step - loss: 0.0290 - dice_coef: 0.9710 - accuracy: 0.9710 - val_loss: 0.0295 - val_dice_coef: 0.9705 - val_accuracy: 0.9705\n",
            "Epoch 17/30\n",
            "338/338 [==============================] - 89s 265ms/step - loss: 0.0288 - dice_coef: 0.9712 - accuracy: 0.9712 - val_loss: 0.0295 - val_dice_coef: 0.9705 - val_accuracy: 0.9705\n",
            "Epoch 18/30\n",
            "338/338 [==============================] - 90s 265ms/step - loss: 0.0298 - dice_coef: 0.9702 - accuracy: 0.9702 - val_loss: 0.0295 - val_dice_coef: 0.9705 - val_accuracy: 0.9705\n",
            "Epoch 19/30\n",
            "338/338 [==============================] - 89s 264ms/step - loss: 0.0293 - dice_coef: 0.9707 - accuracy: 0.9707 - val_loss: 0.0295 - val_dice_coef: 0.9705 - val_accuracy: 0.9705\n",
            "Epoch 20/30\n",
            "338/338 [==============================] - 90s 265ms/step - loss: 0.0288 - dice_coef: 0.9712 - accuracy: 0.9712 - val_loss: 0.0295 - val_dice_coef: 0.9705 - val_accuracy: 0.9705\n",
            "Epoch 21/30\n",
            "338/338 [==============================] - 89s 265ms/step - loss: 0.0286 - dice_coef: 0.9714 - accuracy: 0.9714 - val_loss: 0.0295 - val_dice_coef: 0.9705 - val_accuracy: 0.9705\n",
            "Epoch 22/30\n",
            "338/338 [==============================] - 89s 263ms/step - loss: 0.0279 - dice_coef: 0.9721 - accuracy: 0.9721 - val_loss: 0.0295 - val_dice_coef: 0.9705 - val_accuracy: 0.9705\n",
            "Epoch 23/30\n",
            "338/338 [==============================] - 88s 261ms/step - loss: 0.0296 - dice_coef: 0.9704 - accuracy: 0.9704 - val_loss: 0.0295 - val_dice_coef: 0.9705 - val_accuracy: 0.9705\n",
            "Epoch 24/30\n",
            "338/338 [==============================] - 88s 262ms/step - loss: 0.0280 - dice_coef: 0.9720 - accuracy: 0.9720 - val_loss: 0.0295 - val_dice_coef: 0.9705 - val_accuracy: 0.9705\n",
            "Epoch 25/30\n",
            "338/338 [==============================] - 88s 262ms/step - loss: 0.0291 - dice_coef: 0.9709 - accuracy: 0.9709 - val_loss: 0.0295 - val_dice_coef: 0.9705 - val_accuracy: 0.9705\n",
            "Epoch 26/30\n",
            "338/338 [==============================] - 88s 261ms/step - loss: 0.0295 - dice_coef: 0.9705 - accuracy: 0.9705 - val_loss: 0.0295 - val_dice_coef: 0.9705 - val_accuracy: 0.9705\n",
            "Epoch 27/30\n",
            "338/338 [==============================] - 88s 261ms/step - loss: 0.0283 - dice_coef: 0.9717 - accuracy: 0.9717 - val_loss: 0.0295 - val_dice_coef: 0.9705 - val_accuracy: 0.9705\n",
            "Epoch 28/30\n",
            "338/338 [==============================] - 88s 262ms/step - loss: 0.0295 - dice_coef: 0.9705 - accuracy: 0.9705 - val_loss: 0.0295 - val_dice_coef: 0.9705 - val_accuracy: 0.9705\n",
            "Epoch 29/30\n",
            "338/338 [==============================] - 89s 262ms/step - loss: 0.0287 - dice_coef: 0.9713 - accuracy: 0.9713 - val_loss: 0.0295 - val_dice_coef: 0.9705 - val_accuracy: 0.9705\n",
            "Epoch 30/30\n",
            "338/338 [==============================] - 89s 263ms/step - loss: 0.0291 - dice_coef: 0.9709 - accuracy: 0.9709 - val_loss: 0.0295 - val_dice_coef: 0.9705 - val_accuracy: 0.9705\n"
          ],
          "name": "stdout"
        }
      ]
    },
    {
      "cell_type": "code",
      "metadata": {
        "id": "UDwz_1rC_UwW",
        "colab": {
          "base_uri": "https://localhost:8080/",
          "height": 577
        },
        "outputId": "edeada8f-5ad6-418c-8122-79fa194b4f2f"
      },
      "source": [
        "a = history.history\n",
        "\n",
        "list_traindice = a['dice_coef']\n",
        "list_testdice = a['val_dice_coef']\n",
        "\n",
        "list_trainloss = a['loss']\n",
        "list_testloss = a['val_loss']\n",
        "\n",
        "plt.figure(1)\n",
        "plt.plot(list_testloss, 'b-')\n",
        "plt.plot(list_trainloss,'r-')\n",
        "plt.xlabel('iteration')\n",
        "plt.ylabel('loss')\n",
        "plt.title('loss graph', fontsize = 15)\n",
        "plt.figure(2)\n",
        "plt.plot(list_traindice, 'r-')\n",
        "plt.plot(list_testdice, 'b-')\n",
        "plt.xlabel('iteration')\n",
        "plt.ylabel('accuracy')\n",
        "plt.title('accuracy graph', fontsize = 15)\n",
        "plt.show()\n",
        "\n"
      ],
      "execution_count": null,
      "outputs": [
        {
          "output_type": "display_data",
          "data": {
            "image/png": "[encoded data removed]",
            "text/plain": [
              "<Figure size 432x288 with 1 Axes>"
            ]
          },
          "metadata": {
            "tags": [],
            "needs_background": "light"
          }
        },
        {
          "output_type": "display_data",
          "data": {
            "image/png": "[encoded data removed]",
            "text/plain": [
              "<Figure size 432x288 with 1 Axes>"
            ]
          },
          "metadata": {
            "tags": [],
            "needs_background": "light"
          }
        }
      ]
    },
    {
      "cell_type": "code",
      "metadata": {
        "id": "uW03qQ1x_Yp8"
      },
      "source": [
        "Y_pre = np.argmax(model.predict(X_test),axis=-1)"
      ],
      "execution_count": null,
      "outputs": []
    },
    {
      "cell_type": "code",
      "metadata": {
        "id": "NZhdXMGnRvAU"
      },
      "source": [
        "np.unique(Y_pre)"
      ],
      "execution_count": null,
      "outputs": []
    },
    {
      "cell_type": "code",
      "metadata": {
        "id": "oiwctTbhOiG8"
      },
      "source": [
        "Y_pre.shape"
      ],
      "execution_count": null,
      "outputs": []
    },
    {
      "cell_type": "code",
      "metadata": {
        "id": "N0j37VFT6VsP"
      },
      "source": [
        "Y_pre=Y_pre.reshape(-1,192,192,1)"
      ],
      "execution_count": null,
      "outputs": []
    },
    {
      "cell_type": "code",
      "metadata": {
        "id": "XFvdempo29ff"
      },
      "source": [
        "Y_test.shape,X_test.shape"
      ],
      "execution_count": null,
      "outputs": []
    },
    {
      "cell_type": "code",
      "metadata": {
        "id": "MgS_tGLr_q9h"
      },
      "source": [
        "for i in range(10,20):\n",
        "  print('X_test '+ str(i))\n",
        "  plt.imshow(X_test[i,:,:,2])\n",
        "  plt.show()\n",
        "\n",
        "  print('Predicted '+ str(i))\n",
        "  plt.imshow(Y_pre[i,:,:,0])\n",
        "  plt.show()\n",
        "\n",
        "  print('Actual '+ str(i))\n",
        "  plt.imshow(Y_test[i,:,:,0])\n",
        "  plt.show()"
      ],
      "execution_count": null,
      "outputs": []
    },
    {
      "cell_type": "code",
      "metadata": {
        "id": "qSovRKb5ErZZ"
      },
      "source": [
        "Y_test_encod = to_categorical(Y_test)"
      ],
      "execution_count": null,
      "outputs": []
    },
    {
      "cell_type": "code",
      "metadata": {
        "id": "N_zh-BuKCv4I"
      },
      "source": [
        "train_result = model.evaluate(X_train,Y_train,verbose=0)\n",
        "test_result = model.evaluate(X_test,Y_test_encod,verbose=0)\n",
        "val_result = model.evaluate(X_val,Y_val,verbose=0)"
      ],
      "execution_count": null,
      "outputs": []
    },
    {
      "cell_type": "code",
      "metadata": {
        "id": "SwaXWTEFnjIx"
      },
      "source": [
        "cols = ['Loss', 'dice_coef', 'Accuracy']\n",
        "rows = ['Train Result','Validation Result', 'Test Result']\n",
        "\n",
        "cell_text = [train_result, val_result, test_result]\n",
        "\n",
        "rcolors = plt.cm.BuPu(np.full(len(rows), 0.1))\n",
        "ccolors = plt.cm.BuPu(np.full(len(cols), 0.1))\n",
        "\n",
        "plt.figure(linewidth=4,\n",
        "           facecolor= 'white'\n",
        "          )\n",
        "\n",
        "the_table = plt.table(cellText=cell_text,\n",
        "                      rowLabels=rows,\n",
        "                      rowColours=rcolors,\n",
        "                      colColours=ccolors,\n",
        "                      colLabels=cols,\n",
        "                      loc='center')\n",
        "\n",
        "the_table.scale(1.5, 2.5)\n",
        "\n",
        "plt.suptitle('Results of HGG', fontsize=20)\n",
        "\n",
        "ax = plt.gca()\n",
        "ax.get_xaxis().set_visible(False)\n",
        "ax.get_yaxis().set_visible(False)\n",
        "plt.box(on=None)"
      ],
      "execution_count": null,
      "outputs": []
    },
    {
      "cell_type": "code",
      "metadata": {
        "id": "lp6fsU8MzngR"
      },
      "source": [
        "model.save(\"mod-unet-with-sobel.hdf5\")"
      ],
      "execution_count": null,
      "outputs": []
    }
  ]
}